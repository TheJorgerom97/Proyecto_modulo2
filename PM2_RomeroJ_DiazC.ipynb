{
 "cells": [
  {
   "cell_type": "markdown",
   "metadata": {},
   "source": [
    "#  Resolución de problema con ley de Biot-Savart"
   ]
  },
  {
   "cell_type": "markdown",
   "metadata": {},
   "source": [
    "## 1. Objetivos\n",
    "\n",
    "### 1.1 Objetivo general\n",
    "1. Realizar un programa en *Python* que resuelva un problema físico que involucre la ley de Biot-Savart de la teoría electromagnética.\n",
    "\n",
    "### 1.2 Objetivo específico\n",
    "1. Utilizar el método Montecarlo para determinar el campo magnético en un punto **P** en el centro de una espira cuadrangular de lado **2a**.\n",
    "2. Resolver integrales correspondientes a cada lado del cuadrado con la ley de Biot-Savart aplicada según las coordenadas de la corriente en el sistema planteado"
   ]
  },
  {
   "cell_type": "markdown",
   "metadata": {},
   "source": [
    "## 2. Modelo que representa el problema\n",
    "\n",
    "De acuerdo con Griffiths (1999) la ley de Biot-Savart se utiliza para encontrar el campo magnético producido por una corriente eléctrica; y se enuncia en la siguiente ecuación matemática:\n",
    "\n",
    "$$\\vec{B(r)}=\\frac{\\mu_{0}}{4\\pi}\\int\\frac{I\\times\\vec{r'}}{r'^2}\\vec{dl'}=\\frac{\\mu_{0}}{4\\pi}I\\int\\frac{\\vec{dl'}\\times\\vec{r'}}{r'^2}$$ \n",
    "\n",
    "Esta ecuación, desarrollada por Biot y Savart, explica que al igual que una carga origina un campo eléctrico o una masa un campo gravitatorio, un elemento de corriente estacionaria genera un campo magnético. "
   ]
  },
  {
   "cell_type": "markdown",
   "metadata": {},
   "source": [
    "## 7. Referencias\n",
    "\n",
    "Griffiths, D. J. (1999). *Introduction to Electrodynamics 3ed*. New Jersey: Prentice Hall.\n",
    "\n"
   ]
  }
 ],
 "metadata": {
  "kernelspec": {
   "display_name": "Python 3",
   "language": "python",
   "name": "python3"
  },
  "language_info": {
   "codemirror_mode": {
    "name": "ipython",
    "version": 3
   },
   "file_extension": ".py",
   "mimetype": "text/x-python",
   "name": "python",
   "nbconvert_exporter": "python",
   "pygments_lexer": "ipython3",
   "version": "3.7.3"
  }
 },
 "nbformat": 4,
 "nbformat_minor": 2
}
