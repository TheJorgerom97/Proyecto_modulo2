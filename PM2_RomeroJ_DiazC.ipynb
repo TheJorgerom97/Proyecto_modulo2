{
 "cells": [
  {
   "cell_type": "markdown",
   "metadata": {},
   "source": [
    "# Resolución de problema con ley de Biot-Savart"
   ]
  },
  {
   "cell_type": "markdown",
   "metadata": {},
   "source": [
    "## 1. Objetivos\n",
    "\n",
    "### 1.1 Objetivo general\n",
    "1. Realizar un programa en *Python* que resuelva un problema físico que involucre la ley de Biot-Savart de la teoría electromagnética.\n",
    "\n",
    "### 1.2 Objetivo específico\n",
    "1. Utilizar el método Montecarlo para determinar el campo magnético en un punto **P** en el centro de una esfera cargada de radio **R** y que gira sobre su propio eje.\n",
    "2. Resolver dobles integrales correspondintes a un diferencial de área en una esfera que tiene coordenadas **R**,**$\\phi$** y **$\\theta$**."
   ]
  },
  {
   "cell_type": "markdown",
   "metadata": {},
   "source": [
    "## 2. Modelo que representa el problema\n",
    "\n",
    "De acuerdo con Griffiths (1999) la ley de Biot-Savart se utiliza para encontrar el campo magnético producido por una corriente eléctrica; y se enuncia en la siguiente ecuación matemática:\n",
    "\n",
    "$$\\vec{B}(\\vec{r})=\\frac{\\mu_{0}}{4\\pi}\\int\\frac{\\vec{I}\\times\\hat{r}'}{r'^2}\\vec{dl'}=\\frac{\\mu_{0}}{4\\pi}I\\int\\frac{d\\vec{l}'\\times\\hat{r}'}{r'^2}$$ \n",
    "\n",
    "Esta ecuación, desarrollada por Biot y Savart, explica que al igual que una carga origina un campo eléctrico o una masa un campo gravitatorio, un elemento de corriente estacionaria genera un campo magnético.\n",
    "\n",
    "También se puede utilizar la ley de Biot-Savart para calcular el campo magnético generado por una corriente en una superficie:\n",
    "\n",
    "$$\\vec{B}(\\vec{r})=\\frac{\\mu_{0}}{4\\pi}\\int\\frac{\\vec{K}\\times\\hat{r}'}{r'^2}da$$\n",
    "\n",
    "Y se puede utilizar la ley de Biot-Savart para calcular el campo magnético generado por una corriente en un volumen:\n",
    "\n",
    "$$\\vec{B}(\\vec{r})=\\frac{\\mu_{0}}{4\\pi}\\int\\frac{\\vec{J}\\times\\hat{r}'}{r'^2}dV$$\n",
    "\n",
    "### El problema de Biot-Savart a resolver es el siguiente:\n",
    "\n",
    "Se tiene una esfera de radio $R=1m$ con una carga superficial $\\sigma=10C/m^2$ que gira respecto a su propio eje con la velocidad angular $\\vec{\\omega}=\\omega \\hat{z}$ donde $\\omega=2\\pi$. Se quiere encontrar el campo magnético en el centro de la esfera $\\vec{r}=0$.\n",
    "\n",
    "![Problema](Problema.PNG)"
   ]
  },
  {
   "cell_type": "markdown",
   "metadata": {},
   "source": [
    "## 3 Solución del problema\n",
    "\n",
    "La densidad de corriente en una superficie está dada por $\\vec{K}=\\sigma \\vec{v}$, donde $\\vec{v}$ es la velocidad de un punto en un cuerpo rígido que rota $\\vec{v}=\\vec{\\omega}\\times \\vec{R}$. \n",
    "\n",
    "$$\\vec{\\omega}=\\omega \\hat{z}$$\n",
    "$$\\vec{R}=R\\sin{\\theta}\\cos{\\phi}\\hat{x}+R\\sin{\\theta}\\sin{\\phi}\\hat{y}+R\\cos{\\theta}\\hat{z}$$\n",
    "$$\\vec{v}=-\\omega R\\sin{\\theta}\\sin{\\phi}\\hat{x}+\\omega R\\sin{\\theta}\\cos{\\phi}\\hat{y}$$\n",
    "\n",
    "La ley de Biot-Savart para corrientes en una superficie dicta:\n",
    "\n",
    "$$\\vec{B}(\\vec{r})=\\frac{\\mu_{0}}{4\\pi}\\int\\frac{\\vec{K}\\times\\hat{r}'}{r'^2}da=\\frac{\\mu_{0}\\sigma}{4\\pi}\\int\\frac{\\vec{v}\\times\\hat{r}'}{r'^2}da$$\n",
    "\n",
    "Donde:\n",
    "\n",
    "$$r'^2=R^2$$\n",
    "$$\\hat{r}'=-\\hat{r}=-\\sin{\\theta}\\cos{\\phi}\\hat{x}-\\sin{\\theta}\\sin{\\phi}\\hat{y}-\\cos{\\theta}\\hat{z}$$\n",
    "$$\\vec{v}\\times\\hat{r}'=-\\omega R \\sin{\\theta}\\cos{\\theta}\\cos{\\phi}\\hat{x}-\\omega R \\sin{\\theta}\\cos{\\theta}\\sin{\\phi}\\hat{y}+\\omega R\\sin^2{\\theta}$$\n",
    "\n",
    "Y el diferencial de área en la superficie de una esfera es:\n",
    "\n",
    "$$da=R^2\\sin{\\theta}d\\theta d\\phi$$\n",
    "\n",
    "Por lo que:\n",
    "\n",
    "$$\\vec{B}(\\vec{r})=\\frac{\\mu_{0}\\sigma}{4\\pi}\\int_0^{2\\pi}\\int_0^{\\pi}\\vec{v}\\times\\hat{r}'\\sin{\\theta}d\\theta d\\phi$$\n",
    "\n",
    "Resolviendo el problema analíticamente, el resultado sería:\n",
    "\n",
    "$$\\vec{B}(0)=0\\hat{x}+0\\hat{y}+\\frac{2}{3}\\mu_0\\sigma R \\omega \\hat{z}=(5.26378e-5)\\hat{z}$$"
   ]
  },
  {
   "cell_type": "code",
   "execution_count": 8,
   "metadata": {},
   "outputs": [],
   "source": [
    "#Importamos las librerías necesarias\n",
    "import numpy as np\n",
    "import pandas as pd"
   ]
  },
  {
   "cell_type": "code",
   "execution_count": 2,
   "metadata": {},
   "outputs": [],
   "source": [
    "#Definimos la función Montecarlo\n",
    "def mc(a,b,f,n):\n",
    "    u=(b-a)*np.random.rand(n)+a\n",
    "    return (b-a)*np.mean(f(u))"
   ]
  },
  {
   "cell_type": "code",
   "execution_count": 13,
   "metadata": {},
   "outputs": [],
   "source": [
    "#Introducimos el valor de las constantes w, R, mu_0 y sigma\n",
    "R=1\n",
    "om=2*np.pi\n",
    "mu=4*np.pi*(10**(-7))\n",
    "sig=10"
   ]
  },
  {
   "cell_type": "code",
   "execution_count": 23,
   "metadata": {},
   "outputs": [],
   "source": [
    "#Definimos la función a integrar para el vector unitario x, la de y y la de z\n",
    "def fxt(theta):\n",
    "    return -om*R*np.sin(theta)*np.cos(theta)*np.sin(theta)\n",
    "def fxp(phi):\n",
    "    return np.cos(phi)\n",
    "def fyt(theta):\n",
    "    return -om*R*np.sin(theta)*np.cos(theta)*np.sin(theta)\n",
    "def fyp(phi):\n",
    "    return np.sin(phi)\n",
    "def fzt(theta):\n",
    "    return om*R*((np.sin(theta))**2)*np.sin(theta)\n",
    "def fzp(phi):\n",
    "    return 1"
   ]
  },
  {
   "cell_type": "code",
   "execution_count": 25,
   "metadata": {},
   "outputs": [
    {
     "data": {
      "text/html": [
       "<div>\n",
       "<style scoped>\n",
       "    .dataframe tbody tr th:only-of-type {\n",
       "        vertical-align: middle;\n",
       "    }\n",
       "\n",
       "    .dataframe tbody tr th {\n",
       "        vertical-align: top;\n",
       "    }\n",
       "\n",
       "    .dataframe thead th {\n",
       "        text-align: right;\n",
       "    }\n",
       "</style>\n",
       "<table border=\"1\" class=\"dataframe\">\n",
       "  <thead>\n",
       "    <tr style=\"text-align: right;\">\n",
       "      <th></th>\n",
       "      <th>$\\hat{x}$</th>\n",
       "      <th>Error en $\\hat{x}$</th>\n",
       "      <th>$\\hat{y}$</th>\n",
       "      <th>Error en $\\hat{y}$</th>\n",
       "      <th>$\\hat{z}$</th>\n",
       "      <th>Error en $\\hat{z}$</th>\n",
       "    </tr>\n",
       "  </thead>\n",
       "  <tbody>\n",
       "    <tr>\n",
       "      <th>10</th>\n",
       "      <td>7.99282e-07</td>\n",
       "      <td>7.99282e-07</td>\n",
       "      <td>-7.94135e-08</td>\n",
       "      <td>7.94135e-08</td>\n",
       "      <td>8.40846e-05</td>\n",
       "      <td>3.14468e-05</td>\n",
       "    </tr>\n",
       "    <tr>\n",
       "      <th>100</th>\n",
       "      <td>-6.92431e-08</td>\n",
       "      <td>6.92431e-08</td>\n",
       "      <td>-7.80517e-08</td>\n",
       "      <td>7.80517e-08</td>\n",
       "      <td>5.02561e-05</td>\n",
       "      <td>2.38174e-06</td>\n",
       "    </tr>\n",
       "    <tr>\n",
       "      <th>1000</th>\n",
       "      <td>1.1201e-09</td>\n",
       "      <td>1.1201e-09</td>\n",
       "      <td>-9.46377e-09</td>\n",
       "      <td>9.46377e-09</td>\n",
       "      <td>5.21766e-05</td>\n",
       "      <td>4.61236e-07</td>\n",
       "    </tr>\n",
       "    <tr>\n",
       "      <th>10000</th>\n",
       "      <td>3.48358e-10</td>\n",
       "      <td>3.48358e-10</td>\n",
       "      <td>-5.35356e-10</td>\n",
       "      <td>5.35356e-10</td>\n",
       "      <td>5.31003e-05</td>\n",
       "      <td>4.62461e-07</td>\n",
       "    </tr>\n",
       "    <tr>\n",
       "      <th>100000</th>\n",
       "      <td>5.75077e-11</td>\n",
       "      <td>5.75077e-11</td>\n",
       "      <td>6.25964e-12</td>\n",
       "      <td>6.25964e-12</td>\n",
       "      <td>5.25312e-05</td>\n",
       "      <td>1.06597e-07</td>\n",
       "    </tr>\n",
       "    <tr>\n",
       "      <th>1000000</th>\n",
       "      <td>9.52754e-12</td>\n",
       "      <td>9.52754e-12</td>\n",
       "      <td>7.15373e-12</td>\n",
       "      <td>7.15373e-12</td>\n",
       "      <td>5.25882e-05</td>\n",
       "      <td>4.95954e-08</td>\n",
       "    </tr>\n",
       "    <tr>\n",
       "      <th>10000000</th>\n",
       "      <td>5.05518e-13</td>\n",
       "      <td>5.05518e-13</td>\n",
       "      <td>-1.23137e-13</td>\n",
       "      <td>1.23137e-13</td>\n",
       "      <td>5.26512e-05</td>\n",
       "      <td>1.33808e-08</td>\n",
       "    </tr>\n",
       "  </tbody>\n",
       "</table>\n",
       "</div>"
      ],
      "text/plain": [
       "            $\\hat{x}$ Error en $\\hat{x}$    $\\hat{y}$ Error en $\\hat{y}$  \\\n",
       "10        7.99282e-07        7.99282e-07 -7.94135e-08        7.94135e-08   \n",
       "100      -6.92431e-08        6.92431e-08 -7.80517e-08        7.80517e-08   \n",
       "1000       1.1201e-09         1.1201e-09 -9.46377e-09        9.46377e-09   \n",
       "10000     3.48358e-10        3.48358e-10 -5.35356e-10        5.35356e-10   \n",
       "100000    5.75077e-11        5.75077e-11  6.25964e-12        6.25964e-12   \n",
       "1000000   9.52754e-12        9.52754e-12  7.15373e-12        7.15373e-12   \n",
       "10000000  5.05518e-13        5.05518e-13 -1.23137e-13        1.23137e-13   \n",
       "\n",
       "            $\\hat{z}$ Error en $\\hat{z}$  \n",
       "10        8.40846e-05        3.14468e-05  \n",
       "100       5.02561e-05        2.38174e-06  \n",
       "1000      5.21766e-05        4.61236e-07  \n",
       "10000     5.31003e-05        4.62461e-07  \n",
       "100000    5.25312e-05        1.06597e-07  \n",
       "1000000   5.25882e-05        4.95954e-08  \n",
       "10000000  5.26512e-05        1.33808e-08  "
      ]
     },
     "execution_count": 25,
     "metadata": {},
     "output_type": "execute_result"
    }
   ],
   "source": [
    "#Creamos la tabla en la que aparecerán las integrales\n",
    "N=np.logspace(1,7,7).astype(int)\n",
    "Campo=pd.DataFrame(index=N,columns=['$\\hat{x}$','Error en $\\hat{x}$','$\\hat{y}$','Error en $\\hat{y}$','$\\hat{z}$','Error en $\\hat{z}$'])\n",
    "for n in N:\n",
    "    Campo.loc[n,'$\\hat{x}$']=(mu*sig/(4*np.pi))*mc(0,np.pi,fxt,n)*mc(0,2*np.pi,fxp,n)\n",
    "    Campo.loc[n,'$\\hat{y}$']=(mu*sig/(4*np.pi))*mc(0,np.pi,fyt,n)*mc(0,2*np.pi,fyp,n)\n",
    "    Campo.loc[n,'$\\hat{z}$']=(mu*sig/(4*np.pi))*mc(0,np.pi,fzt,n)*mc(0,2*np.pi,fzp,n)\n",
    "    Campo.loc[n,'Error en $\\hat{x}$']=np.abs(Campo.loc[n,'$\\hat{x}$'])\n",
    "    Campo.loc[n,'Error en $\\hat{y}$']=np.abs(Campo.loc[n,'$\\hat{y}$'])\n",
    "    Campo.loc[n,'Error en $\\hat{z}$']=np.abs(Campo.loc[n,'$\\hat{z}$']-5.26378*(10**(-5)))\n",
    "Campo"
   ]
  },
  {
   "cell_type": "markdown",
   "metadata": {},
   "source": [
    "## Conclusiones\n",
    "1. El método montecarlo es de gran utilidad para resolver integrales sencillas, dobles o triples cuando éstas se vuelven muy complicadas para resolver analíticamente. Estas integrales pueden tener aplicaciones en el área de ingeniería y física, como lo fue el proyecto anterior.\n",
    "\n",
    "2. Este proyecto sirvió para resolver la ley de Biot-Savart en una esfera cargada y giratoria.\n",
    "\n",
    "3. El campo magnético en el centro de una esfera de radio con los datos brindados en el planteamiento del problema es igual a  $26512e-05$ en la dirección $\\hat{z}$, donde el error fue disminuyendo conforme se aumentaban las iteraciones.\n",
    "4. Las integrales dobles fueron resueltas de manera exitosa a través del uso de *Python* y el método Montecarlo."
   ]
  },
  {
   "cell_type": "markdown",
   "metadata": {},
   "source": [
    "## 7. Referencias\n",
    "\n",
    "Griffiths, D. J. (1999). *Introduction to Electrodynamics 3ed*. New Jersey: Prentice Hall.\n",
    "\n"
   ]
  }
 ],
 "metadata": {
  "kernelspec": {
   "display_name": "Python 3",
   "language": "python",
   "name": "python3"
  },
  "language_info": {
   "codemirror_mode": {
    "name": "ipython",
    "version": 3
   },
   "file_extension": ".py",
   "mimetype": "text/x-python",
   "name": "python",
   "nbconvert_exporter": "python",
   "pygments_lexer": "ipython3",
   "version": "3.7.3"
  }
 },
 "nbformat": 4,
 "nbformat_minor": 2
}
